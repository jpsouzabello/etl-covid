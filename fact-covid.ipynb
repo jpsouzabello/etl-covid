{
 "cells": [
  {
   "cell_type": "code",
   "id": "initial_id",
   "metadata": {
    "collapsed": true,
    "ExecuteTime": {
     "end_time": "2024-10-04T22:22:34.628795Z",
     "start_time": "2024-10-04T22:22:33.981770Z"
    }
   },
   "source": [
    "import pandas as pd\n",
    "import psycopg2 \n",
    "# Conectar ao banco de dados PostgreSQL\n",
    "conn = psycopg2.connect(\n",
    "    host=\"localhost\",\n",
    "    database=\"dw_covid\",\n",
    "    user=\"postgres\",\n",
    "    password=\"1234\"\n",
    ")\n",
    "cursor = conn.cursor()"
   ],
   "outputs": [],
   "execution_count": 1
  },
  {
   "metadata": {
    "ExecuteTime": {
     "end_time": "2024-10-04T22:22:47.267672Z",
     "start_time": "2024-10-04T22:22:47.105509Z"
    }
   },
   "cell_type": "code",
   "source": [
    "df = pd.read_csv(\"D:\\\\covid-data-analysis\\\\covid-modified.csv\", delimiter =\";\")\n",
    "df.columns = df.columns.str.lower()"
   ],
   "id": "30c1edd5df673b9b",
   "outputs": [],
   "execution_count": 2
  },
  {
   "metadata": {
    "ExecuteTime": {
     "end_time": "2024-10-04T22:24:26.432401Z",
     "start_time": "2024-10-04T22:24:26.426463Z"
    }
   },
   "cell_type": "code",
   "source": "conn.rollback()",
   "id": "81fa423dbc77a41a",
   "outputs": [],
   "execution_count": 3
  },
  {
   "metadata": {
    "ExecuteTime": {
     "end_time": "2024-10-04T22:46:31.682109Z",
     "start_time": "2024-10-04T22:45:48.431837Z"
    }
   },
   "cell_type": "code",
   "source": [
    "for index, row in df.iterrows():\n",
    "    try:\n",
    "        cursor.execute(\"SELECT id_geography FROM dim_geography WHERE country = %s AND country_code = %s AND region = %s\", (row['country'], row['country_code'], row['region']))\n",
    "        geography_id = cursor.fetchone()\n",
    "        geography_id = geography_id[0] if geography_id else None\n",
    "\n",
    "        cursor.execute(\"SELECT id_date FROM dim_date WHERE date_reported = %s\", (row['date_reported'],))\n",
    "        date_id = cursor.fetchone()\n",
    "        date_id = date_id[0] if date_id else None\n",
    "\n",
    "        cursor.execute(\"\"\"\n",
    "            INSERT INTO fact_covid (\n",
    "                new_cases, cumulative_cases, new_deaths, cumulative_deaths, id_geography, id_date\n",
    "            ) VALUES (%s, %s, %s, %s, %s, %s)\n",
    "            \"\"\", (\n",
    "                row['new_cases'], row['cumulative_cases'], row['new_deaths'], row['cumulative_deaths'], geography_id, date_id\n",
    "            ))\n",
    "\n",
    "        conn.commit()\n",
    "\n",
    "    except Exception as e:\n",
    "        print(f\"Erro encontrado: {e}\")\n",
    "        conn.rollback()\n"
   ],
   "id": "969be6154368ef24",
   "outputs": [],
   "execution_count": 8
  }
 ],
 "metadata": {
  "kernelspec": {
   "display_name": "Python 3",
   "language": "python",
   "name": "python3"
  },
  "language_info": {
   "codemirror_mode": {
    "name": "ipython",
    "version": 2
   },
   "file_extension": ".py",
   "mimetype": "text/x-python",
   "name": "python",
   "nbconvert_exporter": "python",
   "pygments_lexer": "ipython2",
   "version": "2.7.6"
  }
 },
 "nbformat": 4,
 "nbformat_minor": 5
}
