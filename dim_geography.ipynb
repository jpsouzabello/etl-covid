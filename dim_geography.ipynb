{
 "cells": [
  {
   "cell_type": "code",
   "metadata": {
    "ExecuteTime": {
     "end_time": "2024-10-04T22:00:06.653090Z",
     "start_time": "2024-10-04T22:00:06.578534Z"
    }
   },
   "source": [
    "import pandas as pd\n",
    "import psycopg2\n",
    "\n",
    "conn = psycopg2.connect(\n",
    "    host=\"localhost\",\n",
    "    database=\"dw_covid\",\n",
    "    user=\"postgres\",\n",
    "    password=\"1234\"\n",
    ")\n",
    "cursor = conn.cursor()"
   ],
   "outputs": [],
   "execution_count": 2
  },
  {
   "cell_type": "code",
   "metadata": {
    "ExecuteTime": {
     "end_time": "2024-10-04T22:00:10.286213Z",
     "start_time": "2024-10-04T22:00:10.213850Z"
    }
   },
   "source": [
    "df = pd.read_csv(\"D:\\\\covid-data-analysis\\\\covid-modified.csv\", delimiter =\";\")\n",
    "df.columns = df.columns.str.lower()"
   ],
   "outputs": [],
   "execution_count": 3
  },
  {
   "cell_type": "code",
   "metadata": {
    "ExecuteTime": {
     "end_time": "2024-10-04T22:00:26.514651Z",
     "start_time": "2024-10-04T22:00:12.819561Z"
    }
   },
   "source": [
    "for index, row in df.iterrows():\n",
    "    country = row['country']\n",
    "    country_code = row['country_code']\n",
    "    region = row['region']\n",
    "    \n",
    "    cursor.execute(\"SELECT id_geography FROM dim_geography WHERE country = %s AND country_code = %s AND region = %s\", (country, country_code, region))\n",
    "    result = cursor.fetchone()\n",
    "\n",
    "    if result is None:\n",
    "        cursor.execute(\n",
    "            \"\"\"\n",
    "            INSERT INTO dim_geography (country, country_code, region)\n",
    "            VALUES (%s, %s, %s)\n",
    "            \"\"\",\n",
    "            (country, country_code, region)\n",
    "        )\n",
    "        conn.commit()\n",
    "\n",
    "cursor.close()\n",
    "conn.close()"
   ],
   "outputs": [],
   "execution_count": 4
  }
 ],
 "metadata": {
  "kernelspec": {
   "display_name": "Python 3",
   "language": "python",
   "name": "python3"
  },
  "language_info": {
   "codemirror_mode": {
    "name": "ipython",
    "version": 3
   },
   "file_extension": ".py",
   "mimetype": "text/x-python",
   "name": "python",
   "nbconvert_exporter": "python",
   "pygments_lexer": "ipython3",
   "version": "3.11.5"
  }
 },
 "nbformat": 4,
 "nbformat_minor": 2
}
