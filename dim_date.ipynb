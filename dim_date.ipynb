{
 "cells": [
  {
   "cell_type": "code",
   "metadata": {
    "ExecuteTime": {
     "end_time": "2024-10-04T22:09:00.177635Z",
     "start_time": "2024-10-04T22:09:00.110301Z"
    }
   },
   "source": [
    "import pandas as pd\n",
    "import psycopg2\n",
    "\n",
    "conn = psycopg2.connect(\n",
    "    host=\"localhost\",\n",
    "    database=\"dw_covid\",\n",
    "    user=\"postgres\",\n",
    "    password=\"1234\"\n",
    ")\n",
    "cursor = conn.cursor()"
   ],
   "outputs": [],
   "execution_count": 7
  },
  {
   "cell_type": "code",
   "metadata": {
    "ExecuteTime": {
     "end_time": "2024-10-04T22:09:00.257866Z",
     "start_time": "2024-10-04T22:09:00.187653Z"
    }
   },
   "source": [
    "df = pd.read_csv(\"D:\\\\covid-data-analysis\\\\covid-modified.csv\", delimiter =\";\")\n",
    "df.columns = df.columns.str.lower()"
   ],
   "outputs": [],
   "execution_count": 8
  },
  {
   "cell_type": "code",
   "metadata": {
    "ExecuteTime": {
     "end_time": "2024-10-04T22:13:25.165955Z",
     "start_time": "2024-10-04T22:13:12.632473Z"
    }
   },
   "source": [
    "for index, row in df.iterrows():\n",
    "    date_reported = row['date_reported']\n",
    "    \n",
    "    cursor.execute(\"SELECT id_date FROM dim_date WHERE date_reported = %s\", (date_reported,))\n",
    "    result = cursor.fetchone()\n",
    "\n",
    "    if result is None:\n",
    "        cursor.execute(\n",
    "            \"\"\"\n",
    "            INSERT INTO dim_date (date_reported)\n",
    "            VALUES (%s)\n",
    "            \"\"\",\n",
    "            (date_reported,)\n",
    "        )\n",
    "        conn.commit()\n",
    "\n",
    "cursor.close()\n",
    "conn.close()"
   ],
   "outputs": [],
   "execution_count": 13
  }
 ],
 "metadata": {
  "kernelspec": {
   "display_name": "Python 3",
   "language": "python",
   "name": "python3"
  },
  "language_info": {
   "codemirror_mode": {
    "name": "ipython",
    "version": 3
   },
   "file_extension": ".py",
   "mimetype": "text/x-python",
   "name": "python",
   "nbconvert_exporter": "python",
   "pygments_lexer": "ipython3",
   "version": "3.11.5"
  }
 },
 "nbformat": 4,
 "nbformat_minor": 2
}
